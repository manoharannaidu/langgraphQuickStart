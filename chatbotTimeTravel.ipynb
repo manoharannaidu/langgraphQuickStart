{
 "cells": [
  {
   "cell_type": "code",
   "execution_count": 1,
   "id": "b00bb805-029f-4688-a08a-b653c5d0cffc",
   "metadata": {},
   "outputs": [],
   "source": [
    "import getpass\n",
    "import os\n",
    "\n",
    "from typing import Annotated\n",
    "\n",
    "from typing_extensions import TypedDict\n",
    "\n",
    "from langgraph.graph import StateGraph, START, END\n",
    "from langgraph.graph.message import add_messages\n",
    "\n",
    "from langchain.chat_models import init_chat_model\n",
    "\n",
    "from IPython.display import Image, display\n",
    "\n",
    "from langchain_tavily import TavilySearch\n",
    "\n",
    "import json\n",
    "\n",
    "from langchain_core.messages import ToolMessage\n",
    "\n",
    "from langgraph.prebuilt import ToolNode, tools_condition\n",
    "\n",
    "from langgraph.checkpoint.memory import MemorySaver\n",
    "\n",
    "from langchain_core.tools import InjectedToolCallId, tool\n",
    "from langgraph.types import Command, interrupt"
   ]
  },
  {
   "cell_type": "code",
   "execution_count": 2,
   "id": "fd7d5f7e-7e9d-46f7-99fe-86b042f129ec",
   "metadata": {},
   "outputs": [
    {
     "name": "stdin",
     "output_type": "stream",
     "text": [
      "GOOGLE_API_KEY:  ········\n"
     ]
    }
   ],
   "source": [
    "def _set_env(var: str):\n",
    "    if not os.environ.get(var):\n",
    "        os.environ[var] = getpass.getpass(f\"{var}: \")\n",
    "\n",
    "_set_env(\"GOOGLE_API_KEY\")"
   ]
  },
  {
   "cell_type": "code",
   "execution_count": 3,
   "id": "32ac895f-f1bb-4a36-984d-b4c6fd7ec553",
   "metadata": {},
   "outputs": [
    {
     "name": "stdin",
     "output_type": "stream",
     "text": [
      "TAVILY_API_KEY:  ········\n"
     ]
    }
   ],
   "source": [
    "_set_env(\"TAVILY_API_KEY\")"
   ]
  },
  {
   "cell_type": "code",
   "execution_count": 20,
   "id": "82759d28-8e10-4a6c-8c10-c469b551b68c",
   "metadata": {},
   "outputs": [],
   "source": [
    "class State(TypedDict):\n",
    "    '''\n",
    "        Messages are stored as lists.\n",
    "        add_messages appends to the list here instead of overwriting them.\n",
    "        check out add_messages annotation for more clarifications.\n",
    "    '''\n",
    "    messages: Annotated[list, add_messages]"
   ]
  },
  {
   "cell_type": "code",
   "execution_count": 21,
   "id": "787d58e5-0d1a-4e89-94a8-fd5fb47bcff4",
   "metadata": {},
   "outputs": [],
   "source": [
    "tool = TavilySearch(max_results=2)\n",
    "tools = [tool]\n",
    "# tool.invoke(\"What's a 'node' in LangGraph?\")"
   ]
  },
  {
   "cell_type": "code",
   "execution_count": 22,
   "id": "9f38fb68-892b-435d-9c34-58755c5bb225",
   "metadata": {},
   "outputs": [],
   "source": [
    "graph_builder = StateGraph(State)"
   ]
  },
  {
   "cell_type": "code",
   "execution_count": 23,
   "id": "1bf86f54-a376-468e-80b9-c526bd61d6fe",
   "metadata": {},
   "outputs": [
    {
     "data": {
      "text/plain": [
       "<langgraph.graph.state.StateGraph at 0x2bce8bd6990>"
      ]
     },
     "execution_count": 23,
     "metadata": {},
     "output_type": "execute_result"
    }
   ],
   "source": [
    "llm = init_chat_model(\"google_genai:gemini-2.0-flash\")\n",
    "\n",
    "llm_with_tools = llm.bind_tools(tools)\n",
    "\n",
    "def chatbot(state: State):\n",
    "    message = llm_with_tools.invoke(state[\"messages\"])\n",
    "    return {\"messages\": [message]}\n",
    "\n",
    "graph_builder.add_node(\"chatbot\", chatbot)"
   ]
  },
  {
   "cell_type": "code",
   "execution_count": 24,
   "id": "ad5415b6-0937-4d17-a097-ae86719bd1c6",
   "metadata": {},
   "outputs": [],
   "source": [
    "tool_node = ToolNode(tools)"
   ]
  },
  {
   "cell_type": "code",
   "execution_count": 25,
   "id": "fae383cb-d413-44bc-9b58-6ae1c35e368c",
   "metadata": {},
   "outputs": [
    {
     "data": {
      "text/plain": [
       "<langgraph.graph.state.StateGraph at 0x2bce8bd6990>"
      ]
     },
     "execution_count": 25,
     "metadata": {},
     "output_type": "execute_result"
    }
   ],
   "source": [
    "graph_builder.add_node(\"tools\", tool_node)"
   ]
  },
  {
   "cell_type": "code",
   "execution_count": 26,
   "id": "95401255-48be-43b9-946d-5e1ead526bd0",
   "metadata": {},
   "outputs": [],
   "source": [
    "memory = MemorySaver()"
   ]
  },
  {
   "cell_type": "code",
   "execution_count": 27,
   "id": "bacfbaab-d0b3-42ce-ba55-21ffa21c1f93",
   "metadata": {},
   "outputs": [],
   "source": [
    "graph_builder.add_conditional_edges(\n",
    "    \"chatbot\",\n",
    "    tools_condition,\n",
    ")\n",
    "graph_builder.add_edge(\"tools\", \"chatbot\")\n",
    "graph_builder.set_entry_point(\"chatbot\")\n",
    "graph = graph_builder.compile(checkpointer=memory)"
   ]
  },
  {
   "cell_type": "code",
   "execution_count": 28,
   "id": "59ed6fd8-1a26-4798-94f7-482d261f1858",
   "metadata": {},
   "outputs": [
    {
     "data": {
      "image/png": "[encoded data removed]",
      "text/plain": [
       "<IPython.core.display.Image object>"
      ]
     },
     "metadata": {},
     "output_type": "display_data"
    }
   ],
   "source": [
    "display(Image(graph.get_graph().draw_mermaid_png()))"
   ]
  },
  {
   "cell_type": "code",
   "execution_count": 29,
   "id": "a26d076a-f724-4639-b9ff-56f5c69647c5",
   "metadata": {},
   "outputs": [
    {
     "name": "stdout",
     "output_type": "stream",
     "text": [
      "================================\u001b[1m Human Message \u001b[0m=================================\n",
      "\n",
      "I'm learning LangGraph. Could you do some research on it for me?\n",
      "==================================\u001b[1m Ai Message \u001b[0m==================================\n",
      "Tool Calls:\n",
      "  tavily_search (7f8b99ef-68eb-4528-8b75-a8bf6fe15802)\n",
      " Call ID: 7f8b99ef-68eb-4528-8b75-a8bf6fe15802\n",
      "  Args:\n",
      "    query: LangGraph\n",
      "    topic: general\n",
      "=================================\u001b[1m Tool Message \u001b[0m=================================\n",
      "Name: tavily_search\n",
      "\n",
      "{\"query\": \"LangGraph\", \"follow_up_questions\": null, \"answer\": null, \"images\": [], \"results\": [{\"title\": \"LangGraph - LangChain\", \"url\": \"https://www.langchain.com/langgraph\", \"content\": \"Build and scale agentic applications with LangGraph Platform. Craft agent-appropriate UXs using LangGraph Platform's APIs. Quickly deploy and scale your agent with purpose-built infrastructure. Design agent-driven user experiences with LangGraph Platform's APIs. Quickly deploy and scale your application with infrastructure built for agents. LangGraph sets the foundation for how we can build and scale AI workloads — from conversational agents, complex task automation, to custom LLM-backed experiences that 'just work'. LangGraph sets the foundation for how we can build and scale AI workloads — from conversational agents, complex task automation, to custom LLM-backed experiences that 'just work'. LangGraph Platform is a service for deploying and scaling LangGraph applications, with an opinionated API for building agent UXs, plus an integrated developer studio.\", \"score\": 0.79522943, \"raw_content\": null}, {\"title\": \"langchain-ai/langgraph: Build resilient language agents as graphs. - GitHub\", \"url\": \"https://github.com/langchain-ai/langgraph\", \"content\": \"| Latest commit [jacoblee93](/jacoblee93)[jacoblee93](/langchain-ai/langgraph/commits?author=jacoblee93)  [docs: Adds additional Google Analytics tag to docs (](/langchain-ai/langgraph/commit/c7fe85585b430f62fa7f0780fc74bd9de982b2ad)[#4402](https://github.com/langchain-ai/langgraph/pull/4402)[)](/langchain-ai/langgraph/commit/c7fe85585b430f62fa7f0780fc74bd9de982b2ad) Apr 24, 2025  [c7fe855](/langchain-ai/langgraph/commit/c7fe85585b430f62fa7f0780fc74bd9de982b2ad) · Apr 24, 2025  History[5,095 Commits](/langchain-ai/langgraph/commits/main/) | | | | [.markdown-link-check.config.json](/langchain-ai/langgraph/blob/main/.markdown-link-check.config.json \\\".markdown-link-check.config.json\\\") | | [.markdown-link-check.config.json](/langchain-ai/langgraph/blob/main/.markdown-link-check.config.json \\\".markdown-link-check.config.json\\\") | [Use create\\\\_react\\\\_agent (](/langchain-ai/langgraph/commit/2c32a38c4206ae029df1ba308617846ad52ba0bb \\\"Use create_react_agent (#441)\\\")[#441](https://github.com/langchain-ai/langgraph/pull/441)[)](/langchain-ai/langgraph/commit/2c32a38c4206ae029df1ba308617846ad52ba0bb \\\"Use create_react_agent (#441)\\\") | May 13, 2024 | [![Open Issues](https://camo.githubusercontent.com/5c13e9a7e2e21ad5dcf19f3be58e4b34485296e00539a1a93aec1d0896b2bd0f/68747470733a2f2f696d672e736869656c64732e696f2f6769746875622f6973737565732d7261772f6c616e67636861696e2d61692f6c616e676772617068)](https://github.com/langchain-ai/langgraph/issues) [![Docs](https://camo.githubusercontent.com/1a5daa2002aae52e28b869f1907ff99534f4cd34dc7753ddebf2caa26ffb7820/68747470733a2f2f696d672e736869656c64732e696f2f62616467652f646f63732d6c61746573742d626c7565)](https://langchain-ai.github.io/langgraph/) To learn more about how to use LangGraph, check out [the docs](https://langchain-ai.github.io/langgraph/). Discover, reuse, configure, and share agents across teams — and iterate quickly with visual prototyping in [LangGraph Studio](https://langchain-ai.github.io/langgraph/concepts/langgraph_studio/). While LangGraph is our open-source agent orchestration framework, enterprises that need scalable agent deployment can benefit from [LangGraph Platform](https://langchain-ai.github.io/langgraph/concepts/langgraph_platform/). - [Built with LangGraph](https://www.langchain.com/built-with-langgraph): Hear how industry leaders use LangGraph to ship powerful, production-ready AI applications.\", \"score\": 0.7373288, \"raw_content\": null}], \"response_time\": 1.23}\n",
      "==================================\u001b[1m Ai Message \u001b[0m==================================\n",
      "\n",
      "LangGraph is a platform designed for building and scaling agentic applications. It allows you to craft agent-appropriate user experiences using its APIs and offers infrastructure for quick deployment and scaling. It seems to be useful for building conversational agents, automating complex tasks, and creating custom LLM-backed experiences.\n",
      "\n",
      "Key aspects of LangGraph:\n",
      "\n",
      "*   **Agent Orchestration:** It's an open-source framework for building resilient language agents as graphs.\n",
      "*   **Scalable Agent Deployment:** The LangGraph Platform is a service for deploying and scaling LangGraph applications.\n",
      "*   **Visual Prototyping:** LangGraph Studio enables rapid iteration with visual prototyping.\n",
      "\n",
      "I suggest checking out the official documentation at langchain-ai.github.io/langgraph/ for more in-depth information.\n"
     ]
    }
   ],
   "source": [
    "config = {\"configurable\": {\"thread_id\": \"1\"}}\n",
    "events = graph.stream(\n",
    "    {\n",
    "        \"messages\": [\n",
    "            {\n",
    "                \"role\": \"user\",\n",
    "                \"content\": (\n",
    "                    \"I'm learning LangGraph. \"\n",
    "                    \"Could you do some research on it for me?\"\n",
    "                ),\n",
    "            },\n",
    "        ],\n",
    "    },\n",
    "    config,\n",
    "    stream_mode=\"values\",\n",
    ")\n",
    "for event in events:\n",
    "    if \"messages\" in event:\n",
    "        event[\"messages\"][-1].pretty_print()"
   ]
  },
  {
   "cell_type": "code",
   "execution_count": 30,
   "id": "b39ed1ce-6bc1-4316-bc2e-ebd18ca95950",
   "metadata": {},
   "outputs": [
    {
     "name": "stdout",
     "output_type": "stream",
     "text": [
      "================================\u001b[1m Human Message \u001b[0m=================================\n",
      "\n",
      "Ya that's helpful. Maybe I'll build an autonomous agent with it!\n",
      "==================================\u001b[1m Ai Message \u001b[0m==================================\n",
      "\n",
      "That sounds like a great project! If you have any questions about LangGraph or need help with specific aspects of building your autonomous agent, feel free to ask!\n"
     ]
    }
   ],
   "source": [
    "events = graph.stream(\n",
    "    {\n",
    "        \"messages\": [\n",
    "            {\n",
    "                \"role\": \"user\",\n",
    "                \"content\": (\n",
    "                    \"Ya that's helpful. Maybe I'll \"\n",
    "                    \"build an autonomous agent with it!\"\n",
    "                ),\n",
    "            },\n",
    "        ],\n",
    "    },\n",
    "    config,\n",
    "    stream_mode=\"values\",\n",
    ")\n",
    "for event in events:\n",
    "    if \"messages\" in event:\n",
    "        event[\"messages\"][-1].pretty_print()"
   ]
  },
  {
   "cell_type": "code",
   "execution_count": 31,
   "id": "364c5327-0e3c-451c-a14b-1dedfdd155cf",
   "metadata": {},
   "outputs": [
    {
     "name": "stdout",
     "output_type": "stream",
     "text": [
      "Num Messages:  6 Next:  ()\n",
      "--------------------------------------------------------------------------------\n",
      "Num Messages:  5 Next:  ('chatbot',)\n",
      "--------------------------------------------------------------------------------\n",
      "Num Messages:  4 Next:  ('__start__',)\n",
      "--------------------------------------------------------------------------------\n",
      "Num Messages:  4 Next:  ()\n",
      "--------------------------------------------------------------------------------\n",
      "Num Messages:  3 Next:  ('chatbot',)\n",
      "--------------------------------------------------------------------------------\n",
      "Num Messages:  2 Next:  ('tools',)\n",
      "--------------------------------------------------------------------------------\n",
      "Num Messages:  1 Next:  ('chatbot',)\n",
      "--------------------------------------------------------------------------------\n",
      "Num Messages:  0 Next:  ('__start__',)\n",
      "--------------------------------------------------------------------------------\n"
     ]
    }
   ],
   "source": [
    "to_replay = None\n",
    "for state in graph.get_state_history(config):\n",
    "    print(\"Num Messages: \", len(state.values[\"messages\"]), \"Next: \", state.next)\n",
    "    print(\"-\" * 80)\n",
    "    if len(state.values[\"messages\"]) == 4:\n",
    "        # We are somewhat arbitrarily selecting a specific state based on the number of chat messages in the state.\n",
    "        to_replay = state"
   ]
  },
  {
   "cell_type": "code",
   "execution_count": 32,
   "id": "6bd5e9f3-47ce-4795-88b4-d7177b87f28b",
   "metadata": {},
   "outputs": [
    {
     "name": "stdout",
     "output_type": "stream",
     "text": [
      "()\n",
      "{'configurable': {'thread_id': '1', 'checkpoint_ns': '', 'checkpoint_id': '1f02a86e-1f04-61c8-8003-48f67c7f0570'}}\n"
     ]
    }
   ],
   "source": [
    "print(to_replay.next)\n",
    "print(to_replay.config)"
   ]
  },
  {
   "cell_type": "code",
   "execution_count": 33,
   "id": "fbf52274-b71d-4487-91d0-a5f216ae870b",
   "metadata": {},
   "outputs": [
    {
     "name": "stdout",
     "output_type": "stream",
     "text": [
      "==================================\u001b[1m Ai Message \u001b[0m==================================\n",
      "\n",
      "LangGraph is a platform designed for building and scaling agentic applications. It allows you to craft agent-appropriate user experiences using its APIs and offers infrastructure for quick deployment and scaling. It seems to be useful for building conversational agents, automating complex tasks, and creating custom LLM-backed experiences.\n",
      "\n",
      "Key aspects of LangGraph:\n",
      "\n",
      "*   **Agent Orchestration:** It's an open-source framework for building resilient language agents as graphs.\n",
      "*   **Scalable Agent Deployment:** The LangGraph Platform is a service for deploying and scaling LangGraph applications.\n",
      "*   **Visual Prototyping:** LangGraph Studio enables rapid iteration with visual prototyping.\n",
      "\n",
      "I suggest checking out the official documentation at langchain-ai.github.io/langgraph/ for more in-depth information.\n"
     ]
    }
   ],
   "source": [
    "# The `checkpoint_id` in the `to_replay.config` corresponds to a state we've persisted to our checkpointer.\n",
    "for event in graph.stream(None, to_replay.config, stream_mode=\"values\"):\n",
    "    if \"messages\" in event:\n",
    "        event[\"messages\"][-1].pretty_print()"
   ]
  },
  {
   "cell_type": "code",
   "execution_count": null,
   "id": "d2409bcc-6609-4291-8363-2b1b47dc2f8f",
   "metadata": {},
   "outputs": [],
   "source": []
  }
 ],
 "metadata": {
  "kernelspec": {
   "display_name": "Python 3 (ipykernel)",
   "language": "python",
   "name": "python3"
  },
  "language_info": {
   "codemirror_mode": {
    "name": "ipython",
    "version": 3
   },
   "file_extension": ".py",
   "mimetype": "text/x-python",
   "name": "python",
   "nbconvert_exporter": "python",
   "pygments_lexer": "ipython3",
   "version": "3.12.0"
  }
 },
 "nbformat": 4,
 "nbformat_minor": 5
}
