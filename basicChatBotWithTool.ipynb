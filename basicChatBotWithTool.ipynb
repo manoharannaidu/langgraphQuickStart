{
 "cells": [
  {
   "cell_type": "code",
   "execution_count": 1,
   "id": "b00bb805-029f-4688-a08a-b653c5d0cffc",
   "metadata": {},
   "outputs": [],
   "source": [
    "import getpass\n",
    "import os\n",
    "\n",
    "from typing import Annotated\n",
    "\n",
    "from typing_extensions import TypedDict\n",
    "\n",
    "from langgraph.graph import StateGraph, START, END\n",
    "from langgraph.graph.message import add_messages\n",
    "\n",
    "from langchain.chat_models import init_chat_model\n",
    "\n",
    "from IPython.display import Image, display\n",
    "\n",
    "from langchain_tavily import TavilySearch\n",
    "\n",
    "import json\n",
    "\n",
    "from langchain_core.messages import ToolMessage\n",
    "\n",
    "from langgraph.prebuilt import ToolNode, tools_condition"
   ]
  },
  {
   "cell_type": "code",
   "execution_count": 2,
   "id": "fd7d5f7e-7e9d-46f7-99fe-86b042f129ec",
   "metadata": {},
   "outputs": [
    {
     "name": "stdin",
     "output_type": "stream",
     "text": [
      "GOOGLE_API_KEY:  ········\n"
     ]
    }
   ],
   "source": [
    "def _set_env(var: str):\n",
    "    if not os.environ.get(var):\n",
    "        os.environ[var] = getpass.getpass(f\"{var}: \")\n",
    "\n",
    "_set_env(\"GOOGLE_API_KEY\")"
   ]
  },
  {
   "cell_type": "code",
   "execution_count": 4,
   "id": "32ac895f-f1bb-4a36-984d-b4c6fd7ec553",
   "metadata": {},
   "outputs": [],
   "source": [
    "_set_env(\"TAVILY_API_KEY\")"
   ]
  },
  {
   "cell_type": "code",
   "execution_count": 5,
   "id": "a1c38d16-8b53-4a19-b2eb-563e88b3aa1d",
   "metadata": {},
   "outputs": [],
   "source": [
    "class State(TypedDict):\n",
    "    '''\n",
    "        Messages are stored as lists.\n",
    "        add_messages appends to the list here instead of overwriting them.\n",
    "        check out add_messages annotation for more clarifications.\n",
    "    '''\n",
    "    messages: Annotated[list, add_messages]\n",
    "\n",
    "graph_builder = StateGraph(State)"
   ]
  },
  {
   "cell_type": "code",
   "execution_count": 6,
   "id": "787d58e5-0d1a-4e89-94a8-fd5fb47bcff4",
   "metadata": {},
   "outputs": [
    {
     "data": {
      "text/plain": [
       "{'query': \"What's a 'node' in LangGraph?\",\n",
       " 'follow_up_questions': None,\n",
       " 'answer': None,\n",
       " 'images': [],\n",
       " 'results': [{'title': \"Introduction to LangGraph: A Beginner's Guide - Medium\",\n",
       "   'url': 'https://medium.com/@cplog/introduction-to-langgraph-a-beginners-guide-14f9be027141',\n",
       "   'content': 'Stateful Graph: LangGraph revolves around the concept of a stateful graph, where each node in the graph represents a step in your computation, and the graph maintains a state that is passed around and updated as the computation progresses. LangGraph supports conditional edges, allowing you to dynamically determine the next node to execute based on the current state of the graph. We define nodes for classifying the input, handling greetings, and handling search queries. def classify_input_node(state): LangGraph is a versatile tool for building complex, stateful applications with LLMs. By understanding its core concepts and working through simple examples, beginners can start to leverage its power for their projects. Remember to pay attention to state management, conditional edges, and ensuring there are no dead-end nodes in your graph.',\n",
       "   'score': 0.7065353,\n",
       "   'raw_content': None},\n",
       "  {'title': 'LangGraph Tutorial: What Is LangGraph and How to Use It?',\n",
       "   'url': 'https://www.datacamp.com/tutorial/langgraph-tutorial',\n",
       "   'content': 'LangGraph is a library within the LangChain ecosystem that provides a framework for defining, coordinating, and executing multiple LLM agents (or chains) in a structured and efficient manner. By managing the flow of data and the sequence of operations, LangGraph allows developers to focus on the high-level logic of their applications rather than the intricacies of agent coordination. Whether you need a chatbot that can handle various types of user requests or a multi-agent system that performs complex tasks, LangGraph provides the tools to build exactly what you need. LangGraph significantly simplifies the development of complex LLM applications by providing a structured framework for managing state and coordinating agent interactions.',\n",
       "   'score': 0.5008063,\n",
       "   'raw_content': None}],\n",
       " 'response_time': 1.22}"
      ]
     },
     "execution_count": 6,
     "metadata": {},
     "output_type": "execute_result"
    }
   ],
   "source": [
    "tool = TavilySearch(max_results=2)\n",
    "tools = [tool]\n",
    "tool.invoke(\"What's a 'node' in LangGraph?\")"
   ]
  },
  {
   "cell_type": "code",
   "execution_count": 7,
   "id": "1bf86f54-a376-468e-80b9-c526bd61d6fe",
   "metadata": {},
   "outputs": [
    {
     "data": {
      "text/plain": [
       "<langgraph.graph.state.StateGraph at 0x773fd2795eb0>"
      ]
     },
     "execution_count": 7,
     "metadata": {},
     "output_type": "execute_result"
    }
   ],
   "source": [
    "llm = init_chat_model(\"google_genai:gemini-2.0-flash\")\n",
    "\n",
    "llm_with_tools = llm.bind_tools(tools)\n",
    "\n",
    "def chatbot(state: State):\n",
    "    return {\"messages\": [llm_with_tools.invoke(state[\"messages\"])]}\n",
    "\n",
    "graph_builder.add_node(\"chatbot\", chatbot)"
   ]
  },
  {
   "cell_type": "code",
   "execution_count": 8,
   "id": "ad5415b6-0937-4d17-a097-ae86719bd1c6",
   "metadata": {},
   "outputs": [],
   "source": [
    "tool_node = ToolNode(tools)"
   ]
  },
  {
   "cell_type": "code",
   "execution_count": 9,
   "id": "fae383cb-d413-44bc-9b58-6ae1c35e368c",
   "metadata": {},
   "outputs": [
    {
     "data": {
      "text/plain": [
       "<langgraph.graph.state.StateGraph at 0x773fd2795eb0>"
      ]
     },
     "execution_count": 9,
     "metadata": {},
     "output_type": "execute_result"
    }
   ],
   "source": [
    "graph_builder.add_node(\"tools\", tool_node)"
   ]
  },
  {
   "cell_type": "code",
   "execution_count": 10,
   "id": "bacfbaab-d0b3-42ce-ba55-21ffa21c1f93",
   "metadata": {},
   "outputs": [],
   "source": [
    "graph_builder.add_conditional_edges(\n",
    "    \"chatbot\",\n",
    "    tools_condition,\n",
    ")\n",
    "graph_builder.add_edge(\"tools\", \"chatbot\")\n",
    "graph_builder.set_entry_point(\"chatbot\")\n",
    "graph = graph_builder.compile()"
   ]
  },
  {
   "cell_type": "code",
   "execution_count": 14,
   "id": "59ed6fd8-1a26-4798-94f7-482d261f1858",
   "metadata": {},
   "outputs": [
    {
     "data": {
      "image/png": "[encoded data removed]",
      "text/plain": [
       "<IPython.core.display.Image object>"
      ]
     },
     "metadata": {},
     "output_type": "display_data"
    }
   ],
   "source": [
    "display(Image(graph.get_graph().draw_mermaid_png()))"
   ]
  },
  {
   "cell_type": "code",
   "execution_count": 15,
   "id": "82ecea6f-3da2-4b96-892f-3fa2bc55a9ab",
   "metadata": {},
   "outputs": [
    {
     "name": "stdin",
     "output_type": "stream",
     "text": [
      "User:  Hi! can you give a quick summary of Google Next 2025?\n"
     ]
    },
    {
     "name": "stdout",
     "output_type": "stream",
     "text": [
      "Assistant: I can't provide information about Google Next 2025 because it is in the future. If you'd like, I can provide information about the most recent Google Next event.\n"
     ]
    },
    {
     "name": "stdin",
     "output_type": "stream",
     "text": [
      "User:  can you tell me what date is it today?\n"
     ]
    },
    {
     "name": "stdout",
     "output_type": "stream",
     "text": [
      "Assistant: I do not have access to the current date. I can perform a search to try and answer your question. Would you like me to do that?\n"
     ]
    },
    {
     "name": "stdin",
     "output_type": "stream",
     "text": [
      "User:  yes please\n"
     ]
    },
    {
     "name": "stdout",
     "output_type": "stream",
     "text": [
      "Assistant: Okay, I'm ready. What can I help you search for?\n"
     ]
    },
    {
     "name": "stdin",
     "output_type": "stream",
     "text": [
      "User:  give me the latest news about ai?\n"
     ]
    },
    {
     "name": "stdout",
     "output_type": "stream",
     "text": [
      "Assistant: \n",
      "Assistant: {\"query\": \"latest news about ai\", \"follow_up_questions\": null, \"answer\": null, \"images\": [], \"results\": [{\"url\": \"https://techcrunch.com/2025/05/02/google-will-soon-start-letting-kids-under-13-use-its-gemini-chatbot/\", \"title\": \"Google will soon start letting kids under 13 use its Gemini chatbot - TechCrunch\", \"score\": 0.6894943, \"published_date\": \"Fri, 02 May 2025 20:13:07 GMT\", \"content\": \"AI More from TechCrunch Next week, Google will begin allowing kids under 13 who have parent-managed Google accounts to use its Gemini chatbot, according to The New York Times. A Google spokesperson told the publication that Gemini has specific guardrails for younger users, and that the company won’t use that data to train its AI. TechCrunch AI TechCrunch's AI experts cover the latest news in the fast-moving field. TechCrunch Space Startups are the core of TechCrunch, so get our best coverage delivered weekly. One of Google’s recent Gemini AI models scores worse on safety Google’s latest AI model report lacks key safety details, experts say Latest in AI One of Google’s recent Gemini AI models scores worse on safety\"}, {\"url\": \"https://techcrunch.com/2025/04/29/snapchat-abandons-plans-for-a-simplified-version-of-its-app/\", \"title\": \"Snapchat abandons plans for a simplified version of its app - TechCrunch\", \"score\": 0.6083387, \"published_date\": \"Tue, 29 Apr 2025 21:19:42 GMT\", \"content\": \"AI Apps EVs Google Robotics More from TechCrunch TechCrunch Brand Studio In addition, the social network’s DUAs grew to 460 million globally, an increase of 38 million year-over-year. Consumer News Reporter Aisha is a consumer news reporter at TechCrunch. Google launches AI tools for practicing languages through personalized lessons Google launches AI tools for practicing languages through personalized lessons Alibaba unveils Qwen3, a family of ‘hybrid’ AI reasoning models Alibaba unveils Qwen3, a family of ‘hybrid’ AI reasoning models Hugging Face releases a 3D-printed robotic arm starting at $100 Hugging Face releases a 3D-printed robotic arm starting at $100 Bezos-backed Slate Auto debuts analog EV pickup truck that is decidedly anti-Tesla Bezos-backed Slate Auto debuts analog EV pickup truck that is decidedly anti-Tesla\"}], \"response_time\": 0.39}\n",
      "Assistant: Here's the latest news about AI:\n",
      "\n",
      "*   Google will soon start letting kids under 13 use its Gemini chatbot. Gemini has specific guardrails for younger users, and Google won’t use that data to train its AI.\n",
      "*   Google launches AI tools for practicing languages through personalized lessons.\n",
      "*   Alibaba unveils Qwen3, a family of ‘hybrid’ AI reasoning models.\n"
     ]
    },
    {
     "name": "stdin",
     "output_type": "stream",
     "text": [
      "User:  q\n"
     ]
    },
    {
     "name": "stdout",
     "output_type": "stream",
     "text": [
      "Goodbye!\n"
     ]
    }
   ],
   "source": [
    "def stream_graph_updates(user_input: str):\n",
    "    for event in graph.stream({\"messages\": [{\"role\": \"user\", \"content\": user_input}]}):\n",
    "        for value in event.values():\n",
    "            print(\"Assistant:\", value[\"messages\"][-1].content)\n",
    "\n",
    "while True:\n",
    "    try:\n",
    "        user_input = input(\"User: \")\n",
    "        if user_input.lower() in [\"quit\", \"exit\", \"q\", \"get out\"]:\n",
    "            print(\"Goodbye!\")\n",
    "            break\n",
    "        stream_graph_updates(user_input)\n",
    "    except:\n",
    "        user_input = \"Why so shy bro?\"\n",
    "        print(\"Assistant: \" + user_input)"
   ]
  },
  {
   "cell_type": "code",
   "execution_count": null,
   "id": "e7b40378-d109-459c-9168-2aaad801a734",
   "metadata": {},
   "outputs": [],
   "source": []
  }
 ],
 "metadata": {
  "kernelspec": {
   "display_name": "Python 3 (ipykernel)",
   "language": "python",
   "name": "python3"
  },
  "language_info": {
   "codemirror_mode": {
    "name": "ipython",
    "version": 3
   },
   "file_extension": ".py",
   "mimetype": "text/x-python",
   "name": "python",
   "nbconvert_exporter": "python",
   "pygments_lexer": "ipython3",
   "version": "3.12.3"
  }
 },
 "nbformat": 4,
 "nbformat_minor": 5
}
